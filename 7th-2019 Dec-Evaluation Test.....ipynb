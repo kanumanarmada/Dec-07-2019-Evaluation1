{
 "cells": [
  {
   "cell_type": "code",
   "execution_count": 20,
   "metadata": {},
   "outputs": [],
   "source": [
    "import pandas as pd\n",
    "import numpy as np"
   ]
  },
  {
   "cell_type": "code",
   "execution_count": 2,
   "metadata": {},
   "outputs": [
    {
     "data": {
      "text/plain": [
       "0    10\n",
       "1    20\n",
       "2    30\n",
       "dtype: int64"
      ]
     },
     "execution_count": 2,
     "metadata": {},
     "output_type": "execute_result"
    }
   ],
   "source": [
    "data = [10,20,30]\n",
    "se_d = pd.Series(data)\n",
    "se_d"
   ]
  },
  {
   "cell_type": "code",
   "execution_count": 3,
   "metadata": {},
   "outputs": [
    {
     "data": {
      "text/plain": [
       "A    10\n",
       "B    20\n",
       "c    30\n",
       "dtype: int64"
      ]
     },
     "execution_count": 3,
     "metadata": {},
     "output_type": "execute_result"
    }
   ],
   "source": [
    "#1. Write a Pandas program to change the order of index of a given series.\n",
    "se_d = pd.Series(data,index=['A','B','c'])\n",
    "se_d"
   ]
  },
  {
   "cell_type": "code",
   "execution_count": 7,
   "metadata": {},
   "outputs": [
    {
     "name": "stdout",
     "output_type": "stream",
     "text": [
      "0     2\n",
      "1     4\n",
      "2     6\n",
      "3     8\n",
      "4    10\n",
      "dtype: int64\n",
      "0     2\n",
      "1     4\n",
      "2     6\n",
      "3     8\n",
      "4    10\n",
      "dtype: int64\n"
     ]
    }
   ],
   "source": [
    "s1 = [2, 4, 6, 8, 10]\n",
    "s2= [1, 3, 5, 7, 9]\n",
    "s3 = pd.Series(s1)\n",
    "s4 = pd.Series(s1)\n",
    "print(s3)\n",
    "print(s4)"
   ]
  },
  {
   "cell_type": "code",
   "execution_count": 10,
   "metadata": {},
   "outputs": [
    {
     "name": "stdout",
     "output_type": "stream",
     "text": [
      "0     4\n",
      "1     8\n",
      "2    12\n",
      "3    16\n",
      "4    20\n",
      "dtype: int64\n",
      "0    0\n",
      "1    0\n",
      "2    0\n",
      "3    0\n",
      "4    0\n",
      "dtype: int64\n",
      "0      4\n",
      "1     16\n",
      "2     36\n",
      "3     64\n",
      "4    100\n",
      "dtype: int64\n",
      "0    1.0\n",
      "1    1.0\n",
      "2    1.0\n",
      "3    1.0\n",
      "4    1.0\n",
      "dtype: float64\n"
     ]
    }
   ],
   "source": [
    "# 2. Write a Python program to add, subtract, multiple and divide two Pandas Series.\n",
    "print(s3+s4)\n",
    "print(s3-s4)\n",
    "print(s3*s4)\n",
    "print(s3/s4)"
   ]
  },
  {
   "cell_type": "code",
   "execution_count": 15,
   "metadata": {},
   "outputs": [
    {
     "name": "stdout",
     "output_type": "stream",
     "text": [
      "<class 'list'>\n"
     ]
    }
   ],
   "source": [
    "#3. Write a Python program to convert a Panda module Series to Python list and it's type\n",
    "se_d.tolist # one way\n",
    "se_d = list(se_d)\n",
    "print(type(se_d))"
   ]
  },
  {
   "cell_type": "code",
   "execution_count": 35,
   "metadata": {},
   "outputs": [],
   "source": [
    "# 4. Write a Pandas program to select the rows where the score is missing, i.e.is NaN \n",
    "exam_data = {'name': ['Sachin', 'Ganguly', 'Kohli', 'Johnson', 'Taylor',   \n",
    "    'Waugh', 'Yuvraj', 'Kambli', 'Srinath', 'Munaf'],\n",
    "    'score': [12.5, 9, 16.5, np.nan, 9, 20, 14.5, np.nan, 8, 19],\n",
    "    'attempts': [1, 3, 2, 3, 2, 3, 1, 1, 2, 1],\n",
    "    'qualify': ['yes', 'no', 'yes', 'no', 'no', 'yes', 'yes', 'no', 'no', 'yes']}\n",
    "labels = ['a', 'b', 'c', 'd', 'e', 'f', 'g', 'h', 'i', 'j'] \n",
    "df = pd.DataFrame(exam_data,index=labels)\n"
   ]
  },
  {
   "cell_type": "code",
   "execution_count": 36,
   "metadata": {},
   "outputs": [
    {
     "name": "stdout",
     "output_type": "stream",
     "text": [
      "      name  score  attempts qualify\n",
      "d  Johnson    NaN         3      no\n",
      "h   Kambli    NaN         1      no\n"
     ]
    }
   ],
   "source": [
    "print(df[df['score'].isnull()])"
   ]
  },
  {
   "cell_type": "code",
   "execution_count": 38,
   "metadata": {},
   "outputs": [
    {
     "name": "stdout",
     "output_type": "stream",
     "text": [
      "2019-12-07 00:00:00\n"
     ]
    }
   ],
   "source": [
    "#5. Write a Pandas program to create todays date\n",
    "import pandas as pd\n",
    "from datetime import date\n",
    "now = pd.to_datetime(str(date.today()), format='%Y-%m-%d')\n",
    "print(now)"
   ]
  },
  {
   "cell_type": "code",
   "execution_count": 39,
   "metadata": {},
   "outputs": [
    {
     "name": "stdout",
     "output_type": "stream",
     "text": [
      "[[ 2  3  4]\n",
      " [ 5  6  7]\n",
      " [ 8  9 10]]\n"
     ]
    }
   ],
   "source": [
    "#6 Write a Pandas program to create a Pivot table, by considering Titanic Dataset\n",
    "ar =  np.arange(2, 11).reshape(3,3)\n",
    "print(ar)"
   ]
  },
  {
   "cell_type": "code",
   "execution_count": 41,
   "metadata": {},
   "outputs": [
    {
     "name": "stdout",
     "output_type": "stream",
     "text": [
      "[1 7 3 4 3 2 4 1]\n",
      "[1 7 3 4 3 2 4 1]\n"
     ]
    }
   ],
   "source": [
    "# 7.Illustrate the difference between ravel and flatten by taking considering multidimensional array.\n",
    "a = np.array( [ (1,7,3,4),(3,2,4,1) ] )\n",
    "print(a.flatten())\n",
    "print(a.ravel())"
   ]
  },
  {
   "cell_type": "code",
   "execution_count": 46,
   "metadata": {},
   "outputs": [
    {
     "name": "stdout",
     "output_type": "stream",
     "text": [
      "[[1 2 3]\n",
      " [4 5 6]\n",
      " [7 8 9]]\n",
      "[1 2 3 4 5 6 7 8 9]\n",
      "[[1 2 3]\n",
      " [4 5 6]\n",
      " [7 8 9]]\n"
     ]
    }
   ],
   "source": [
    "#10. Illustrate the concept of splitting by taking random positive values and also implementing different stacking methods on them.\n",
    "ar =np.arange(1, 10).reshape(3,3)\n",
    "print(ar)\n",
    "print(np.hstack(ar))\n",
    "print(np.vstack(ar))"
   ]
  },
  {
   "cell_type": "code",
   "execution_count": 45,
   "metadata": {},
   "outputs": [
    {
     "data": {
      "text/plain": [
       "array([1, 2, 3, 4, 5, 6, 7, 8, 9])"
      ]
     },
     "execution_count": 45,
     "metadata": {},
     "output_type": "execute_result"
    }
   ],
   "source": []
  },
  {
   "cell_type": "code",
   "execution_count": null,
   "metadata": {},
   "outputs": [],
   "source": []
  }
 ],
 "metadata": {
  "kernelspec": {
   "display_name": "Python 3",
   "language": "python",
   "name": "python3"
  },
  "language_info": {
   "codemirror_mode": {
    "name": "ipython",
    "version": 3
   },
   "file_extension": ".py",
   "mimetype": "text/x-python",
   "name": "python",
   "nbconvert_exporter": "python",
   "pygments_lexer": "ipython3",
   "version": "3.7.3"
  }
 },
 "nbformat": 4,
 "nbformat_minor": 2
}
